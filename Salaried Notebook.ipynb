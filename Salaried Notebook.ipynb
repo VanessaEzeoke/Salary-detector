{
 "cells": [
  {
   "cell_type": "markdown",
   "metadata": {},
   "source": [
    "## Running the algorithm in an azure environment"
   ]
  },
  {
   "cell_type": "code",
   "execution_count": 1,
   "metadata": {
    "gather": {
     "logged": 1645451773875
    }
   },
   "outputs": [],
   "source": [
    "import pandas as pd\n",
    "import numpy as np\n",
    "from Helper_Functions import job, get_batch, getBreakdown_Total\n",
    "\n",
    "import os\n",
    "from multiprocessing import Pool\n",
    "#import warnings\n",
    "#warnings.filterwarnings(\"ignore\")\n",
    "pd.set_option('display.float_format', lambda x: '%.3f' % x)   \n",
    "pd.set_option('display.max_rows', None)\n",
    "pd.set_option('display.max_columns', None)"
   ]
  },
  {
   "cell_type": "code",
   "execution_count": 2,
   "metadata": {
    "gather": {
     "logged": 1645451795447
    }
   },
   "outputs": [
    {
     "data": {
      "text/html": [
       "<div>\n",
       "<style scoped>\n",
       "    .dataframe tbody tr th:only-of-type {\n",
       "        vertical-align: middle;\n",
       "    }\n",
       "\n",
       "    .dataframe tbody tr th {\n",
       "        vertical-align: top;\n",
       "    }\n",
       "\n",
       "    .dataframe thead th {\n",
       "        text-align: right;\n",
       "    }\n",
       "</style>\n",
       "<table border=\"1\" class=\"dataframe\">\n",
       "  <thead>\n",
       "    <tr style=\"text-align: right;\">\n",
       "      <th></th>\n",
       "      <th>TRAN_DATE</th>\n",
       "      <th>TRAN_ID</th>\n",
       "      <th>TRAN_AMT</th>\n",
       "      <th>TRAN_PARTICULAR</th>\n",
       "      <th>Acct_ID</th>\n",
       "      <th>transaction_type</th>\n",
       "    </tr>\n",
       "  </thead>\n",
       "  <tbody>\n",
       "    <tr>\n",
       "      <th>0</th>\n",
       "      <td>2021-10-15</td>\n",
       "      <td>2628977109232</td>\n",
       "      <td>60000.000</td>\n",
       "      <td>FBNMOBILE ADENIYI OWOLABI ABUDU ACCOMMODATION</td>\n",
       "      <td>Account_0</td>\n",
       "      <td>C</td>\n",
       "    </tr>\n",
       "    <tr>\n",
       "      <th>1</th>\n",
       "      <td>2021-10-15</td>\n",
       "      <td>2628977109296</td>\n",
       "      <td>200000.000</td>\n",
       "      <td>WEB APP TO STANBICIBTC BANK OLUWASEUN ALFRED ADE</td>\n",
       "      <td>Account_1</td>\n",
       "      <td>C</td>\n",
       "    </tr>\n",
       "    <tr>\n",
       "      <th>2</th>\n",
       "      <td>2021-10-15</td>\n",
       "      <td>2628977109232</td>\n",
       "      <td>20000.000</td>\n",
       "      <td>USSD UNION TRANSFER FROM ASIBE IFEANYI FELIX</td>\n",
       "      <td>Account_2</td>\n",
       "      <td>C</td>\n",
       "    </tr>\n",
       "    <tr>\n",
       "      <th>3</th>\n",
       "      <td>2021-10-15</td>\n",
       "      <td>2628977109296</td>\n",
       "      <td>90000.000</td>\n",
       "      <td>TUD IBG UTO JINJIRI MAI ATAMFA SANI SULEIMA</td>\n",
       "      <td>Account_3</td>\n",
       "      <td>C</td>\n",
       "    </tr>\n",
       "    <tr>\n",
       "      <th>4</th>\n",
       "      <td>2021-10-15</td>\n",
       "      <td>2628977109232</td>\n",
       "      <td>30000.000</td>\n",
       "      <td>TRANSFER FROM TO AMIDU OPEYEMI TIAMIYU</td>\n",
       "      <td>Account_4</td>\n",
       "      <td>C</td>\n",
       "    </tr>\n",
       "  </tbody>\n",
       "</table>\n",
       "</div>"
      ],
      "text/plain": [
       "   TRAN_DATE        TRAN_ID   TRAN_AMT  \\\n",
       "0 2021-10-15  2628977109232  60000.000   \n",
       "1 2021-10-15  2628977109296 200000.000   \n",
       "2 2021-10-15  2628977109232  20000.000   \n",
       "3 2021-10-15  2628977109296  90000.000   \n",
       "4 2021-10-15  2628977109232  30000.000   \n",
       "\n",
       "                                    TRAN_PARTICULAR    Acct_ID  \\\n",
       "0     FBNMOBILE ADENIYI OWOLABI ABUDU ACCOMMODATION  Account_0   \n",
       "1  WEB APP TO STANBICIBTC BANK OLUWASEUN ALFRED ADE  Account_1   \n",
       "2      USSD UNION TRANSFER FROM ASIBE IFEANYI FELIX  Account_2   \n",
       "3       TUD IBG UTO JINJIRI MAI ATAMFA SANI SULEIMA  Account_3   \n",
       "4            TRANSFER FROM TO AMIDU OPEYEMI TIAMIYU  Account_4   \n",
       "\n",
       "  transaction_type  \n",
       "0                C  \n",
       "1                C  \n",
       "2                C  \n",
       "3                C  \n",
       "4                C  "
      ]
     },
     "execution_count": 2,
     "metadata": {},
     "output_type": "execute_result"
    }
   ],
   "source": [
    "from azureml.core import Workspace, Dataset\n",
    "\n",
    "subscription_id = 'xxxxx'\n",
    "resource_group = 'xxx'\n",
    "workspace_name = 'SXXX'\n",
    "\n",
    "workspace = Workspace(subscription_id, resource_group, workspace_name)\n",
    "\n",
    "dataset = Dataset.get_by_name(workspace, name='ysysyys')\n",
    "data1=dataset.to_pandas_dataframe()\n",
    "data1.reset_index(drop=True,inplace=True)\n",
    "data1.head()"
   ]
  },
  {
   "cell_type": "code",
   "execution_count": 4,
   "metadata": {},
   "outputs": [
    {
     "data": {
      "text/plain": [
       "TRAN_DATE           0\n",
       "TRAN_ID             0\n",
       "TRAN_AMT            0\n",
       "TRAN_PARTICULAR     0\n",
       "Acct_ID             0\n",
       "transaction_type    0\n",
       "dtype: int64"
      ]
     },
     "execution_count": 4,
     "metadata": {},
     "output_type": "execute_result"
    }
   ],
   "source": [
    "data1.isna().sum()"
   ]
  },
  {
   "cell_type": "code",
   "execution_count": 5,
   "metadata": {},
   "outputs": [
    {
     "name": "stdout",
     "output_type": "stream",
     "text": [
      "CPU times: user 139 ms, sys: 89.7 ms, total: 228 ms\n",
      "Wall time: 227 ms\n"
     ]
    }
   ],
   "source": [
    "%%time\n",
    "data1['TRAN_AMT'] = data1.TRAN_AMT.astype(float)\n",
    "data1['TRAN_AMT'] = data1.TRAN_AMT.fillna(0)"
   ]
  },
  {
   "cell_type": "code",
   "execution_count": 6,
   "metadata": {
    "gather": {
     "logged": 1645451592229
    }
   },
   "outputs": [],
   "source": [
    "def AppRun(df, n_cores, func):\n",
    "    if __name__ == '__main__':\n",
    "        pool = Pool(n_cores)\n",
    "        batch_lst = get_batch(df, n_cores)\n",
    "        print('Batch created')\n",
    "        results = pool.map(func, batch_lst)\n",
    "        print('Result gotten')\n",
    "        pool.close()\n",
    "        print('pool closed')\n",
    "        pool.join()\n",
    "        print('pool joined')\n",
    "        results_parallel = pd.concat(results)\n",
    "        print('final result combined')\n",
    "    \n",
    "    return results_parallel"
   ]
  },
  {
   "cell_type": "code",
   "execution_count": 7,
   "metadata": {},
   "outputs": [],
   "source": [
    "n_cores = os.cpu_count()"
   ]
  },
  {
   "cell_type": "code",
   "execution_count": 9,
   "metadata": {},
   "outputs": [
    {
     "name": "stdout",
     "output_type": "stream",
     "text": [
      "Batch created\n",
      "Result gotten\n",
      "pool closed\n",
      "pool joined\n",
      "final result combined\n",
      "CPU times: user 26.3 s, sys: 2.59 s, total: 28.9 s\n",
      "Wall time: 14min 45s\n"
     ]
    }
   ],
   "source": [
    "%%time\n",
    "\n",
    "result_parallel = AppRun(data1, n_cores-1, job)"
   ]
  },
  {
   "cell_type": "markdown",
   "metadata": {},
   "source": [
    "## sample_review"
   ]
  },
  {
   "cell_type": "code",
   "execution_count": 10,
   "metadata": {},
   "outputs": [
    {
     "data": {
      "text/plain": [
       "Non Salaried          535023\n",
       "Salaried              204587\n",
       "Pensioner              16089\n",
       "Salaried-Pensioner      2728\n",
       "Name: Label, dtype: int64"
      ]
     },
     "execution_count": 10,
     "metadata": {},
     "output_type": "execute_result"
    }
   ],
   "source": [
    "result_parallel.Label.value_counts()"
   ]
  },
  {
   "cell_type": "code",
   "execution_count": 11,
   "metadata": {},
   "outputs": [
    {
     "data": {
      "text/plain": [
       "False    460239\n",
       "True     298188\n",
       "Name: inflowPrevMonth, dtype: int64"
      ]
     },
     "execution_count": 11,
     "metadata": {},
     "output_type": "execute_result"
    }
   ],
   "source": [
    "result_parallel.inflowPrevMonth.value_counts()"
   ]
  },
  {
   "cell_type": "code",
   "execution_count": 12,
   "metadata": {},
   "outputs": [
    {
     "data": {
      "text/html": [
       "<div>\n",
       "<style scoped>\n",
       "    .dataframe tbody tr th:only-of-type {\n",
       "        vertical-align: middle;\n",
       "    }\n",
       "\n",
       "    .dataframe tbody tr th {\n",
       "        vertical-align: top;\n",
       "    }\n",
       "\n",
       "    .dataframe thead th {\n",
       "        text-align: right;\n",
       "    }\n",
       "</style>\n",
       "<table border=\"1\" class=\"dataframe\">\n",
       "  <thead>\n",
       "    <tr style=\"text-align: right;\">\n",
       "      <th></th>\n",
       "      <th>Acct_ID</th>\n",
       "      <th>Label</th>\n",
       "      <th>Duration</th>\n",
       "      <th>Avg Salary Inflow</th>\n",
       "      <th>Avg Pension Inflow</th>\n",
       "      <th>Avg Inflow</th>\n",
       "      <th>Trans Group</th>\n",
       "      <th>inflowCount</th>\n",
       "      <th>inflowPrevMonth</th>\n",
       "      <th>Record_count</th>\n",
       "      <th>possibleGroups</th>\n",
       "    </tr>\n",
       "  </thead>\n",
       "  <tbody>\n",
       "    <tr>\n",
       "      <th>7369</th>\n",
       "      <td>Account_1663</td>\n",
       "      <td>Non Salaried</td>\n",
       "      <td>2021-10-27 00:00:00 - 2022-02-11 00:00:00</td>\n",
       "      <td>nan</td>\n",
       "      <td>nan</td>\n",
       "      <td>99416.667</td>\n",
       "      <td>90000-100000</td>\n",
       "      <td>nan</td>\n",
       "      <td>False</td>\n",
       "      <td>95</td>\n",
       "      <td>0</td>\n",
       "    </tr>\n",
       "  </tbody>\n",
       "</table>\n",
       "</div>"
      ],
      "text/plain": [
       "           Acct_ID         Label                                   Duration  \\\n",
       "7369  Account_1663  Non Salaried  2021-10-27 00:00:00 - 2022-02-11 00:00:00   \n",
       "\n",
       "      Avg Salary Inflow  Avg Pension Inflow  Avg Inflow   Trans Group  \\\n",
       "7369                nan                 nan   99416.667  90000-100000   \n",
       "\n",
       "      inflowCount  inflowPrevMonth  Record_count  possibleGroups  \n",
       "7369          nan            False            95               0  "
      ]
     },
     "execution_count": 12,
     "metadata": {},
     "output_type": "execute_result"
    }
   ],
   "source": [
    "result_parallel[result_parallel['Acct_ID']=='Account_1663']"
   ]
  },
  {
   "cell_type": "code",
   "execution_count": 13,
   "metadata": {},
   "outputs": [],
   "source": [
    "result_parallel.to_csv(\"results.csv\",sep='\\t', index=False)"
   ]
  },
  {
   "cell_type": "code",
   "execution_count": 14,
   "metadata": {},
   "outputs": [
    {
     "data": {
      "text/plain": [
       "Salaried              101\n",
       "Non Salaried           41\n",
       "Salaried-Pensioner      2\n",
       "Name: Label, dtype: int64"
      ]
     },
     "execution_count": 14,
     "metadata": {},
     "output_type": "execute_result"
    }
   ],
   "source": [
    "temp.Label.value_counts()"
   ]
  },
  {
   "cell_type": "code",
   "execution_count": null,
   "metadata": {},
   "outputs": [],
   "source": []
  },
  {
   "cell_type": "code",
   "execution_count": null,
   "metadata": {
    "scrolled": true
   },
   "outputs": [],
   "source": []
  },
  {
   "cell_type": "code",
   "execution_count": null,
   "metadata": {},
   "outputs": [],
   "source": [
    "# breakdown = getBreakdown_Total(data1)\n",
    "# breakdown.head()"
   ]
  }
 ],
 "metadata": {
  "kernel_info": {
   "name": "python3"
  },
  "kernelspec": {
   "display_name": "Python 3",
   "language": "python",
   "name": "python3"
  },
  "language_info": {
   "codemirror_mode": {
    "name": "ipython",
    "version": 3
   },
   "file_extension": ".py",
   "mimetype": "text/x-python",
   "name": "python",
   "nbconvert_exporter": "python",
   "pygments_lexer": "ipython3",
   "version": "3.8.8"
  },
  "nteract": {
   "version": "nteract-front-end@1.0.0"
  }
 },
 "nbformat": 4,
 "nbformat_minor": 2
}
